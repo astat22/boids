{
 "cells": [
  {
   "cell_type": "code",
   "execution_count": 1,
   "metadata": {},
   "outputs": [
    {
     "data": {
      "text/plain": [
       "'\\n:author: Jacek Mucha\\nStart:  19.12.2018\\nUwagi: \\n1. Zrefaktoryzować kod. Obecnie klasa Board jest traktowana jako statyczna. Bardziej elegancko byłoby\\nutworzyć na początku jej instancję i przekazywać do innych obiektów tę instancję jako parametr.\\n2. Utworzyć PreyFactory\\n'"
      ]
     },
     "execution_count": 1,
     "metadata": {},
     "output_type": "execute_result"
    }
   ],
   "source": [
    "'''\n",
    ":author: Jacek Mucha\n",
    "Start:  19.12.2018\n",
    "Uwagi: \n",
    "1. Zrefaktoryzować kod. Obecnie klasa Board jest traktowana jako statyczna. Bardziej elegancko byłoby\n",
    "utworzyć na początku jej instancję i przekazywać do innych obiektów tę instancję jako parametr.\n",
    "2. Utworzyć PreyFactory\n",
    "'''"
   ]
  },
  {
   "cell_type": "code",
   "execution_count": null,
   "metadata": {},
   "outputs": [],
   "source": [
    "import numpy as np\n",
    "import math as mt\n",
    "import random as rn\n",
    "import cmath as cmt\n",
    "import matplotlib.pyplot as plt\n",
    "import matplotlib.colors as cl\n",
    "from mpl_toolkits.mplot3d import Axes3D\n",
    "import imageio\n"
   ]
  },
  {
   "cell_type": "code",
   "execution_count": 3,
   "metadata": {},
   "outputs": [],
   "source": [
    "import copy\n",
    "import pandas as pd\n",
    "import os\n",
    "import multiprocessing as mp"
   ]
  },
  {
   "cell_type": "code",
   "execution_count": 4,
   "metadata": {},
   "outputs": [],
   "source": [
    "class Boids:\n",
    "    species = [\"Aegithalos\",\"Sturnus\", \"Columba\", \"Panurus\",  \"Carduelis\"]\n",
    "    \n",
    "    def gen_colour(species):\n",
    "        if species == \"Sturnus\": #kolor hebanowy\n",
    "            r = 61\n",
    "            g = 43\n",
    "            b = 31\n",
    "        elif species == \"Columba\": #kolor gołębi\n",
    "            r = 198\n",
    "            g = 206\n",
    "            b = 206\n",
    "        elif species == \"Aegithalos\": #cynober\n",
    "            r = 227\n",
    "            g = 66\n",
    "            b = 52\n",
    "        elif species == \"Panurus\": #morelowy\n",
    "            r = 233\n",
    "            g = 150\n",
    "            b = 123\n",
    "        elif species == \"Carduelis\": #żółty\n",
    "            r = 225\n",
    "            g = 225\n",
    "            b = 30\n",
    "        elif species == \"Accipiter\": #pistacjowy\n",
    "            r = 159\n",
    "            g = 225\n",
    "            b = 136\n",
    "        return (r+rn.randint(-30,30),g+rn.randint(-30,30),b+rn.randint(-30,30))"
   ]
  },
  {
   "cell_type": "code",
   "execution_count": 5,
   "metadata": {},
   "outputs": [],
   "source": [
    "class ExtendedBoids(Boids):\n",
    "    \n",
    "    def __init__(self, board_size = (200,200,200), searching_for_food = False, number_of_boids = [20], \n",
    "                number_of_predators = 0, min_distance = [15], flat_angle = [120], neighbourhood_distance = [60],\n",
    "                maximum_speed = [5], separation_weight = [0.15], cohension_weight = [0.18], alignment_weight = [0.12],\n",
    "                noise = [0.1], obstacles = [], z_angle = [120]):\n",
    "        self._number_of_boids = number_of_boids\n",
    "        self._board_size = board_size\n",
    "        self._searching_for_food = searching_for_food\n",
    "        self._number_of_boids = number_of_boids\n",
    "        self._number_of_predators = number_of_predators\n",
    "        self._min_distance = min_distance\n",
    "        self._flat_angle = flat_angle\n",
    "        self._neighbourhood_distance = neighbourhood_distance\n",
    "        self._maximum_speed = maximum_speed\n",
    "        self._separation_weight = separation_weight\n",
    "        self._cohension_weight = cohension_weight\n",
    "        self._alignment_weight = alignment_weight\n",
    "        self._noise = noise\n",
    "        self._obstacles = obstacles\n",
    "        self._number_of_prey_species = len(number_of_boids)\n",
    "        self._z_angle = z_angle\n",
    "        self._identifier = 0\n",
    "        self._step = 0\n",
    "        \n",
    "        self._board = Board()\n",
    "        \n",
    "        self.check_input_data()\n",
    "        \n",
    "        self.clear_board()\n",
    "        self.create_board()\n",
    "        self.add_obstacles()\n",
    "        self.populate_board()\n",
    "#wyjątki długości list    \n",
    "\n",
    "    def add_obstacles(self):\n",
    "        for obs in self._obstacles:\n",
    "            self.add_obstacle(obs)\n",
    "\n",
    "    def add_obstacle(self,obs):\n",
    "        Board.obstacles.append(Obstacle(obs[0],obs[1],obs[2],obs[3]))\n",
    "        \n",
    "    def create_species(self,species_id):\n",
    "        return Species(Boids.species[species_id], self._min_distance[species_id], self._flat_angle[species_id],\n",
    "                    self._neighbourhood_distance[species_id], self._maximum_speed[species_id], \n",
    "                    self._separation_weight[species_id], self._cohension_weight[species_id], \n",
    "                    self._alignment_weight[species_id],self._z_angle[species_id],self._noise[species_id])\n",
    "        \n",
    "    def check_obstacles(self,x,y,z):\n",
    "        for obs in self._obstacles:\n",
    "            if mt.sqrt( (x-obs[0])**2.0 + (y-obs[1])**2.0 + (z-obs[2])**2.0) <= obs[3]:\n",
    "                return False\n",
    "        return True\n",
    "        \n",
    "    def create_prey(self,species):\n",
    "        x = rn.uniform(0.0,Board.xlim)\n",
    "        y = rn.uniform(0.0,Board.ylim)\n",
    "        z = rn.uniform(0.0,Board.zlim)\n",
    "        \n",
    "        while not self.check_obstacles(x,y,z):\n",
    "            x = rn.uniform(0.0,Board.xlim)\n",
    "            y = rn.uniform(0.0,Board.ylim)\n",
    "            z = rn.uniform(0.0,Board.zlim)\n",
    "        \n",
    "        maxv = Board.species[species].get_maxv()\n",
    "        \n",
    "        vx = rn.uniform(-maxv,maxv)\n",
    "        vy = rn.uniform(-maxv,maxv)\n",
    "        vz = rn.uniform(-maxv,maxv)\n",
    "        \n",
    "        colour = Boids.gen_colour(species)\n",
    "        ident = self._identifier\n",
    "        self._identifier += 1\n",
    "        \n",
    "        return Prey(x,y,z,vx,vy,vz,ident,species,colour)\n",
    "        \n",
    "    def create_board(self):\n",
    "        Board.xlim = self._board_size[0]\n",
    "        Board.ylim = self._board_size[1]\n",
    "        Board.zlim = self._board_size[2]\n",
    "        \n",
    "    def populate_board(self):\n",
    "        for s in range(self._number_of_prey_species):\n",
    "            Board.species[Boids.species[s]] = self.create_species(s)\n",
    "            for boid_id in range(self._number_of_boids[s]):\n",
    "                b = self.create_prey(Boids.species[s])\n",
    "                Board.prey.append(b)\n",
    "                \n",
    "    def copy_situation(self):\n",
    "        Board.new_prey = []\n",
    "        Board.new_predators = []\n",
    "        for p in Board.prey:\n",
    "            Board.new_prey.append(p)\n",
    "        for p in Board.predators:\n",
    "            Board.new_predators.append(p)\n",
    "            \n",
    "    def board_step(self):\n",
    "        self.copy_situation()\n",
    "        for p in Board.predators:\n",
    "            p.hunt()\n",
    "        #kill_prey()\n",
    "        #output = mp.Queue()\n",
    "        #list_of_objects = [Board.prey[i] for i in range(len(Board.prey))]\n",
    "        #processes = [mp.Process(target=self.par_step, args=(i)) for i in range(len(Board.prey))]\n",
    "        #pool = mp.Pool(4)\n",
    "        #pool.map(self.worker, (obj for obj in list_of_objects))\n",
    "        #pool.close()\n",
    "        #pool.join()\n",
    "        for p in Board.prey:\n",
    "            p.step()\n",
    "        #for p in processes:\n",
    "        #    p.start()\n",
    "        #for p in processes:\n",
    "        #    p.join()\n",
    "        self._step+=1\n",
    "        Board.steps = self._step\n",
    "    \n",
    "    def par_step(self,p):\n",
    "        Board.prey[i].step()\n",
    "        \n",
    "    def worker(self,obj):\n",
    "        return obj.step()\n",
    "    \n",
    "    def clear_board(self):\n",
    "        Board.prey = []\n",
    "        Board.new_prey = []\n",
    "        Board.predators = []\n",
    "        Board.new_predators = []\n",
    "        Board.obstacles = []\n",
    "        Board.species = {}\n",
    "        \n",
    "    def check_input_data(self):\n",
    "        '''\n",
    "        Funkcja sprawdzająca poprawność wprowadzonych danych. Jeżeli lista zadeklarowanych liczebności gatunków \n",
    "        ma większą długość n niż inne listy odpowiadające parametrom tych gatunków, to listy te są modyfikowane w sposób \n",
    "        lista[0]*n\n",
    "        '''\n",
    "        n = len(self._number_of_boids)\n",
    "        if n > 5:\n",
    "            n=5\n",
    "        if len(self._min_distance) < n:\n",
    "            self._min_distance = [self._min_distance[0]]*n\n",
    "        if len(self._flat_angle) < n:\n",
    "            self._flat_angle = [self._flat_angle[0]]*n\n",
    "        if len(self._neighbourhood_distance) < n:\n",
    "            self._neighbourhood_distance = [self._neighbourhood_distance[0]]*n\n",
    "        if len(self._maximum_speed) < n:\n",
    "            self._maximum_speed = [self._maximum_speed[0]]*n\n",
    "        if len(self._separation_weight) < n:\n",
    "            self._separation_weight = [self._separation_weight[0]]*n\n",
    "        if len(self._cohension_weight) < n:\n",
    "            self._cohension_weight = [self._cohension_weight[0]]*n\n",
    "        if len(self._alignment_weight) < n:\n",
    "            self._alignment_weight = [self._alignment_weight[0]]*n\n",
    "        if len(self._noise) < n:\n",
    "            self._noise = [self._noise[0]]*n\n",
    "        if len(self._z_angle) < n:\n",
    "            self._z_angle = [self._z_angle[0]]*n\n",
    "        \n",
    "\n",
    "            \n",
    "            \n",
    "        "
   ]
  },
  {
   "cell_type": "code",
   "execution_count": 6,
   "metadata": {},
   "outputs": [],
   "source": [
    "class Species:\n",
    "    def __init__(self,name =\"Sturnus\", min_distance = 15, view_angle = 120, neighbourhood_distance = 50,\n",
    "                maximum_speed = 6, separation_weight = 0.15, cohension_weight = 0.15, alignment_weight = 0.10, \n",
    "                z_angle = 120, noise = 1.0):\n",
    "        self._min_distance = min_distance\n",
    "        self._view_angle = view_angle\n",
    "        self._neighbourhood_distance = neighbourhood_distance\n",
    "        self._maximum_speed = maximum_speed\n",
    "        self._separation_weight = separation_weight\n",
    "        self._cohension_weight = cohension_weight\n",
    "        self._alignment_weight = alignment_weight\n",
    "        self._name = name\n",
    "        self._z_angle = z_angle\n",
    "        self._noise = noise\n",
    "        \n",
    "    def get_maxv(self):\n",
    "        return self._maximum_speed\n",
    "    \n",
    "    def getParameters(self):\n",
    "        return self._min_distance, self._view_angle, self._neighbourhood_distance, self._maximum_speed, \n",
    "        self._separation_weight, self._cohension_weight, self._alignment_weight, self._name = name, self._z_angle\n",
    "        \n",
    "    def getNeighbourDistance(self):\n",
    "        return self._neighbourhood_distance\n",
    "    \n",
    "    def getViewAngle(self):\n",
    "        return self._view_angle\n",
    "    \n",
    "    def getZAngle(self):\n",
    "        return self._z_angle\n",
    "    \n",
    "    def get_alignment(self):\n",
    "        return self._alignment_weight\n",
    "    \n",
    "    def get_cohension(self):\n",
    "        return self._cohension_weight\n",
    "    \n",
    "    def get_separation(self):\n",
    "        return self._separation_weight\n",
    "    \n",
    "    def get_mind(self):\n",
    "        return self._min_distance\n",
    "\n",
    "    def get_noise(self):\n",
    "        return self._min_distance\n",
    "                "
   ]
  },
  {
   "cell_type": "code",
   "execution_count": 7,
   "metadata": {},
   "outputs": [],
   "source": [
    "class Board:\n",
    "    ''' Pomocnicza klasa ze zmiennymi statycznymi.\n",
    "    '''\n",
    "    xlim = 200\n",
    "    ylim = 200\n",
    "    zlim = 0\n",
    "    prey = []\n",
    "    new_prey = []\n",
    "    predators = []\n",
    "    new_predators = []\n",
    "    obstacles = []\n",
    "    species = {}\n",
    "    steps = 0"
   ]
  },
  {
   "cell_type": "code",
   "execution_count": 8,
   "metadata": {},
   "outputs": [],
   "source": [
    "class Boid:\n",
    "    \n",
    "    def __init__(self,x,y,z,vx,vy,vz,identifier,colour):\n",
    "        self._x = x\n",
    "        self._y = y\n",
    "        self._z = z\n",
    "        self._vx = vx\n",
    "        self._vy = vy\n",
    "        self._identifier = identifier\n",
    "        self._colour = colour\n",
    "        \n",
    "    def getX(self):\n",
    "        return self._x\n",
    "    \n",
    "    def getY(self):\n",
    "        return self._y\n",
    "    \n",
    "    def getZ(self):\n",
    "        return self._z\n",
    "    \n",
    "    def getVx(self):\n",
    "        return self._vx\n",
    "    \n",
    "    def getVy(self):\n",
    "        return self._vy\n",
    "    \n",
    "    def getVz(self):\n",
    "        return self._vz\n",
    "    \n",
    "    def getCoordinates(self):\n",
    "        return self._x, self._y, self._z\n",
    "    \n",
    "    def getVelocities(self):\n",
    "        return self._vx, self._vy, self._vz\n",
    "    \n",
    "    def setColour(self,r,g,b):\n",
    "        self._colour = [r,g,b]\n",
    "    \n",
    "    def setCoordinates(self,x,y,z):\n",
    "        self._x = x\n",
    "        self._y = y\n",
    "        self._z = z\n",
    "    \n",
    "    def setVelocities(self,vx,vy,vz):\n",
    "        self._vx = vx\n",
    "        self._vy = vy\n",
    "        self._vz = vz\n",
    "        \n",
    "    def periodic(self,x,m):\n",
    "        if x>=0.5*m:\n",
    "            return x-m\n",
    "        elif x<-0.5*m:\n",
    "            return x+m\n",
    "        else:\n",
    "            return x\n",
    "        \n",
    "    def distanceX(self, x, y, m):\n",
    "        return min(abs(self.periodic(x,m)-self.periodic(y,m)), abs(x-y))\n",
    "    \n",
    "    def getColour(self):\n",
    "        return self._colour\n",
    "\n",
    "    def distance(self,boid):\n",
    "        nx, ny, nz = boid.getX(), boid.getY(), boid.getZ()\n",
    "        return mt.sqrt( self.distanceX(self._x,nx,Board.xlim)**2.0 + \\\n",
    "                      self.distanceX(self._y,ny,Board.ylim)**2.0 + \\\n",
    "                      self.distanceX(self._z,nz,Board.zlim)**2.0)\n",
    "\n",
    "    def to_radians(self, angle):\n",
    "        return angle/360.0*2.0*mt.pi\n",
    "    \n",
    "    def angle(self,boid):\n",
    "        v = mt.sqrt(self._vx**2.0 + self._vy**2.0 + self._vz**2.0)\n",
    "        x = ( boid.getX() - self._x)\n",
    "        y =  (boid.getY() - self._y)\n",
    "        z = (boid.getZ() - self._z)\n",
    "        u = mt.sqrt(x**2.0 + y**2.0 + z**2.0)\n",
    "        if u == 0 or v == 0:\n",
    "            return mt.pi / 2\n",
    "        prod = x * self._vx + y * self._vy + z * self._vz \n",
    "        dist = self.distance(boid)\n",
    "        mdist = Board.xlim/2.0 #należałoby policzyć inaczej, ale zależy nam na szybkości obliczeń\n",
    "        return (mt.acos(prod/(u*v))+(dist>mdist)*mt.pi/2.0) %  mt.pi\n",
    "    "
   ]
  },
  {
   "cell_type": "code",
   "execution_count": 9,
   "metadata": {},
   "outputs": [],
   "source": [
    "class Prey(Boid):\n",
    "    def __init__(self, x, y, z, vx, vy, vz, identifier, species, colour):\n",
    "        self._x = x\n",
    "        self._y = y\n",
    "        self._z = z\n",
    "        self._vx = vx\n",
    "        self._vy = vy\n",
    "        self._vz = vz\n",
    "        self._identifier = identifier\n",
    "        self._species = species\n",
    "        self._colour = colour\n",
    "        self._neighbours = []\n",
    "        self._prey = []\n",
    "        self._predators = []\n",
    "        self._obstacles = []\n",
    "        \n",
    "    def getSpecies(self):\n",
    "        return self._species\n",
    "    \n",
    "    def getId(self):\n",
    "        return self._identifier\n",
    "    \n",
    "    def get_species_parameters(self):\n",
    "        return Board.species[self.getSpecies()].getParameters()\n",
    "    \n",
    "    def neighbour_distance(self):\n",
    "        return Board.species[self.getSpecies()].getNeighbourDistance()\n",
    "    \n",
    "    def limflat_angle(self):\n",
    "        return self.to_radians(Board.species[self.getSpecies()].getViewAngle())\n",
    "    \n",
    "    def limz_angle(self):\n",
    "        return self.to_radians(Board.species[self.getSpecies()].getZAngle())\n",
    "    \n",
    "    def alignment_weight(self):\n",
    "        return Board.species[self.getSpecies()].get_alignment()\n",
    "    \n",
    "    def cohension_weight(self):\n",
    "        return Board.species[self.getSpecies()].get_cohension()\n",
    "    \n",
    "    def separation_weight(self):\n",
    "        return Board.species[self.getSpecies()].get_separation()\n",
    "    \n",
    "    def mind(self):\n",
    "        return Board.species[self.getSpecies()].get_mind()\n",
    "    \n",
    "    def get_noise(self):\n",
    "        return Board.species[self.getSpecies()].get_noise()\n",
    "\n",
    "    def get_maxv(self):\n",
    "        return Board.species[self.getSpecies()].get_maxv()\n",
    "        \n",
    "    def find_neighbours(self, mine = True):\n",
    "        ''' Funkcja przeszukująca statyczną listę new_prey z klasy Board i zwracająca listę sąsiadów, \n",
    "        tzn. takich obiektów klasy Prey, które\n",
    "        1. są tego samego gatunku (species), co self\n",
    "        2. znajdują się bliżej niż neighbour_distance() od self (wartość liczbowa wspólna dla danej instancji Species)\n",
    "        3. znajdują się kącie widzenia\n",
    "\n",
    "        '''\n",
    "        n = []\n",
    "        if len(Board.new_prey) == 0:\n",
    "            print(\"alert\")\n",
    "        if mine:\n",
    "            for b in Board.new_prey:\n",
    "                if self.check_species(b) and self._identifier != b.getId():\n",
    "                    if self.distance(b) <= self.neighbour_distance() and \\\n",
    "                    self.angle(b) <= self.limflat_angle()*0.5:\n",
    "                        n.append(b)  \n",
    "        else:\n",
    "            for b in Board.new_prey:\n",
    "                if self._identifier != b.getId():\n",
    "                    if self.distance(b) <= self.neighbour_distance() and \\\n",
    "                    self.angle(b) <= self.limflat_angle()*0.5:\n",
    "                        n.append(b)              \n",
    "        return n\n",
    "                \n",
    "    def mean_velocities(self):\n",
    "        VX = []\n",
    "        VY = []\n",
    "        VZ = []\n",
    "        for b in self._neighbours:\n",
    "            VX.append(b.getVx())\n",
    "            VY.append(b.getVy())\n",
    "            VZ.append(b.getVz())\n",
    "        #print(VX)\n",
    "        return np.mean(VX), np.mean(VY), np.mean(VZ)\n",
    "    \n",
    "    def mean_distance(self):\n",
    "        distances = []\n",
    "        for b in self._neighbours:\n",
    "            distances.append(self.distance(b))\n",
    "        return np.mean(distances)\n",
    "                 \n",
    "    def find_predators(self):\n",
    "        p = []\n",
    "        for b in Board.new_predators:\n",
    "            if self.distance(b) <= self.neighbour_distance() and \\\n",
    "            self.angle(b) <= self.limflat_angle()*0.5:\n",
    "                p.append(b) \n",
    "        return p\n",
    "    \n",
    "    def find_obstacles(self):\n",
    "        pass\n",
    "    \n",
    "    def separation(self, vx, vy, vz):\n",
    "        Vx, Vy, Vz = vx, vy, vz\n",
    "        weight = self.separation_weight()\n",
    "        proximity = self.mind()\n",
    "        for b in self._prey:\n",
    "            d = self.distance(b)\n",
    "            Vx = Vx - weight*( (b.getX()- self.getX())*proximity/d - (b.getX()- self.getX()) )\n",
    "            Vy = Vy - weight*( (b.getY()- self.getY())*proximity/d - (b.getY()- self.getY()) )\n",
    "            Vz = Vz - weight*( (b.getZ()- self.getZ())*proximity/d - (b.getZ()- self.getZ()) )\n",
    "        return Vx, Vy, Vz\n",
    "    \n",
    "    def cohension(self, vx, vy, vz):\n",
    "        dm = self.mean_distance()\n",
    "        Vx, Vy, Vz = vx, vy, vz\n",
    "        weight = self.cohension_weight()\n",
    "        for b in self._neighbours:\n",
    "            db = self.distance(b)\n",
    "            d = (db-dm)/db\n",
    "            Vx+= weight*(b.getX()-self._x)*d\n",
    "            Vy+= weight*(b.getX()-self._y)*d\n",
    "            Vz+= weight*(b.getX()-self._z)*d\n",
    "        return Vx, Vy, Vz\n",
    "    \n",
    "    def alignment(self, vx, vy, vz):\n",
    "        weight = self.alignment_weight()\n",
    "        mvx, mvy, mvz = self.mean_velocities()\n",
    "        Vx = vx*(1.0-weight)+weight*mvx\n",
    "        Vy = vy*(1.0-weight)+weight*mvy\n",
    "        Vz = vz*(1.0-weight)+weight*mvz\n",
    "        return Vx, Vy, Vz\n",
    "    \n",
    "    def avoidance(self, vx, vy, vz):\n",
    "        Vx, Vy, Vz = vx, vy, vz\n",
    "        weight = 0.3\n",
    "        proximity = self.mind()+1.0\n",
    "        for b in Board.obstacles:\n",
    "            d = max(self.distance(b) - b._r,0.01)\n",
    "            if d < 2.5 * proximity:\n",
    "                Vx = Vx - weight*( (b.getX()- self.getX())*proximity/d - (b.getX()- self.getX()) )\n",
    "                Vy = Vy - weight*( (b.getY()- self.getY())*proximity/d - (b.getY()- self.getY()) )\n",
    "                Vz = Vz - weight*( (b.getZ()- self.getZ())*proximity/d - (b.getZ()- self.getZ()) )\n",
    "        return Vx, Vy, Vz\n",
    "  \n",
    "    def retardation(self, vx, vy, vz):\n",
    "        mv = self.get_maxv()\n",
    "        Vx, Vy, Vz = vx, vy, vz\n",
    "        if abs(Vx) > mv:\n",
    "            if abs(Vx) > 2.0 * mx:\n",
    "                 Vx = 0.5*Vx\n",
    "            else:\n",
    "                 Vx = 0.75*Vx\n",
    "        if abs(Vy) > mv:\n",
    "            if abs(Vy) > 2.0 * mv:\n",
    "                 Vy = 0.5*Vy\n",
    "            else:\n",
    "                 Vy = 0.75*Vy\n",
    "        if abs(Vz) > mv:\n",
    "            if abs(Vz) > 2.0 * mv:\n",
    "                 Vz = 0.5*Vz\n",
    "            else:\n",
    "                 Vz = 0.75*Vz           \n",
    "        return Vx,Vy,Vz\n",
    "    \n",
    "    def searching_for_food(self, vx, vy, vz):\n",
    "        pass\n",
    "    \n",
    "    def evade(self, vx, vy, vz):\n",
    "        pass\n",
    "    \n",
    "    def add_noise(self,vx,vy,vz):\n",
    "        '''Do wektora prędkości dodajemy po każdej współrzędnej niezależną zmienną losową\n",
    "        o rozkładzie N(0,noise), gdzie noise jest polem w instancji klasy Species'''\n",
    "        noise = self.get_noise()\n",
    "        return vx+np.random.normal(0.0,noise), vy+np.random.normal(0.0,noise), vz+np.random.normal(0.0,noise)\n",
    "    \n",
    "    def retardation2(self, vx, vy, vz):\n",
    "        mv = self.get_maxv()\n",
    "        Vx, Vy, Vz = vx, vy, vz\n",
    "        if abs(Vx) > mv:\n",
    "            if Vx > 0:\n",
    "                Vx = mv\n",
    "                Vx = 0.75 * Vx\n",
    "            else:\n",
    "                Vx = -mv\n",
    "        if abs(Vy) > mv:\n",
    "            if Vy > 0:\n",
    "                Vy = mv\n",
    "            else:\n",
    "                Vy = -mv\n",
    "        if abs(Vz) > mv:\n",
    "            if Vz > 0:\n",
    "                Vz = mv\n",
    "            else:\n",
    "                Vz = -mv\n",
    "        return Vx,Vy,Vz\n",
    "\n",
    "\n",
    "    \n",
    "    def step(self):\n",
    "        self.refresh() #odświeżamy listę sąsiadów i drapieżników\n",
    "        vx, vy, vz = self.compute_new_velocities() #wyliczamy prędkości do następnego kroku\n",
    "        self.apply_velocity() #wykonujemy krok z pręskościami z poprzedniego stanu\n",
    "        self.setVelocities(vx,vy,vz) #aktualizujemy prędkości\n",
    "    \n",
    "    def refresh(self):\n",
    "        self._neighbours = self.find_neighbours()\n",
    "        self._prey = self.find_neighbours(False) #unikamy zderzeń ze wszystkimi, nie tylko własnym gatunkiem\n",
    "        self._predators = self.find_predators()\n",
    "        self._obstacles = self.find_obstacles()\n",
    "        \n",
    "    def check_species(self, boid):\n",
    "        if boid.getSpecies() == self._species:\n",
    "            return True\n",
    "        else:\n",
    "            return False\n",
    "    \n",
    "    def get_neigh_coord(self,boid):\n",
    "        return [boid.getX(),boid.getY(),boid.getZ()]\n",
    "    \n",
    "    def get_number_of_neighbours(self):\n",
    "        return len(self._neighbours)\n",
    "    \n",
    "    def flat_angle(self):\n",
    "        return  cmt.phase(complex(self._vx, self._vy))\n",
    "    \n",
    "    def z_angle(self):\n",
    "        flat_v = mt.sqrt(self._vx**2.0+self._vy**2.0)\n",
    "        return cmt.phase(complex(flat_v,self._vz))\n",
    "    \n",
    "    def apply_velocity(self):\n",
    "        self._x = (self._x + self._vx) % Board.xlim\n",
    "        self._y = (self._y + self._vy) % Board.ylim\n",
    "        self._z = (self._z + self._vz) % Board.zlim\n",
    "        \n",
    "    def compute_new_velocities(self):\n",
    "        vx, vy, vz = self._vx, self._vy, self._vz\n",
    "        if self._neighbours: #jeśli istnieją sąsiedzi\n",
    "            vx, vy, vz = self.alignment(vx, vy, vz) #dostosowanie prędkości i kierunku lotu do sąsiadów\n",
    "            vx, vy, vz = self.cohension(vx, vy, vz) #ciążenie do centrum grupy\n",
    "        #vx, vy, vz = self.searching_for_food(vx, vy, vz) #poszukiwanie jedzenia\n",
    "        #vx, vy, vz = self.evade(vx, vy, vz) #ucieczka od drapieżników \n",
    "            vx, vy, vz = self.separation(vx, vy, vz) #unikanie zderzeń\n",
    "        \n",
    "        vx, vy, vz = self.avoidance(vx, vy, vz) #omijanie przeszkód\n",
    "        vx, vy, vz = self.add_noise(vx, vy, vz) #losowe fluktuacje ruchu\n",
    "        vx, vy, vz = self.retardation(vx, vy, vz) #zwolnij, jeśli przekroczyłeś prędkość\n",
    "        return vx, vy, vz\n",
    "    \n",
    "    def report_nan(self,v,i):\n",
    "        if mt.isnan(v):\n",
    "            print(i)\n",
    "        "
   ]
  },
  {
   "cell_type": "code",
   "execution_count": 10,
   "metadata": {},
   "outputs": [],
   "source": [
    "class Accipiter(Boid):\n",
    "    species = \"Accipiter\"\n",
    "    \n",
    "    def __init__(self, mv, x, y, z, vx, vy, vz, angle):\n",
    "        self._x = x\n",
    "        self._y = y\n",
    "        self._z = z\n",
    "        self._vx = vx\n",
    "        self._vy = vy\n",
    "        self._vz = vz\n",
    "        self._mv = mv\n",
    "        self._angle = angle\n",
    "        self._obstacles = []\n",
    "        self._prey = []\n",
    "\n",
    "    def find_prey(self):\n",
    "        ''' Funkcja przeszukująca statyczną listę new_prey z klasy Board i zwracająca listę sąsiadów, \n",
    "        tzn. takich obiektów klasy Prey, które\n",
    "        1. są tego samego gatunku (species), co self\n",
    "        2. znajdują się bliżej niż neighbour_distance() od self (wartość liczbowa wspólna dla danej instancji Species)\n",
    "        3. znajdują się kącie widzenia\n",
    "\n",
    "        '''\n",
    "        n = []\n",
    "        if len(Board.new_prey) == 0:\n",
    "            print(\"alert\")\n",
    "            return []\n",
    "        for b in Board.new_prey:\n",
    "            if self.distance(b) <= self.neighbour_distance() and \\\n",
    "            self.angle(b) <= self.limflat_angle()*0.5:\n",
    "                n.append(b)              \n",
    "        return n        \n",
    "        \n",
    "    def retardation(self, vx, vy, vz):\n",
    "        mv = self._mv\n",
    "        Vx, Vy, Vz = vx, vy, vz\n",
    "        if abs(Vx) > mv:\n",
    "            if abs(Vx) > 2.0 * mx:\n",
    "                 Vx = 0.5*Vx\n",
    "            else:\n",
    "                 Vx = 0.75*Vx\n",
    "        if abs(Vy) > mv:\n",
    "            if abs(Vy) > 2.0 * mv:\n",
    "                 Vy = 0.5*Vy\n",
    "            else:\n",
    "                 Vy = 0.75*Vy\n",
    "        if abs(Vz) > mv:\n",
    "            if abs(Vz) > 2.0 * mv:\n",
    "                 Vz = 0.5*Vz\n",
    "            else:\n",
    "                 Vz = 0.75*Vz           \n",
    "        return Vx,Vy,Vz\n",
    "    \n",
    "    def get_closest_prey(self):\n",
    "        if len(self._prey) > 0:\n",
    "            proxima = self._prey[0]\n",
    "            d = self.distance(proxima)\n",
    "            for p in self._prey:\n",
    "                nd = self.distance(p)\n",
    "                if nd < d:\n",
    "                    d = nd\n",
    "                    proxima = p\n",
    "            return proxima\n",
    "        else:\n",
    "            return nan\n",
    "        \n",
    "    def hunt(self, Vx, Vy, Vz):\n",
    "        Vx, Vy, Vz = vx, vy, vz\n",
    "        p = self.get_closest_prey()\n",
    "        if p\n",
    "        "
   ]
  },
  {
   "cell_type": "code",
   "execution_count": 11,
   "metadata": {},
   "outputs": [],
   "source": [
    "class Obstacle:\n",
    "    def __init__(self,x,y,z,r):\n",
    "        self._x = x\n",
    "        self._y = y\n",
    "        self._z = z\n",
    "        self._r = r\n",
    "\n",
    "    def getX(self):\n",
    "        return self._x\n",
    "    \n",
    "    def getY(self):\n",
    "        return self._y\n",
    "    \n",
    "    def getZ(self):\n",
    "        return self._z"
   ]
  },
  {
   "cell_type": "code",
   "execution_count": 12,
   "metadata": {},
   "outputs": [],
   "source": [
    "class Cones:\n",
    "    def __init__(self):\n",
    "        self._marked = []\n",
    "        self._x = [b.getX() for b in Board.prey]\n",
    "        self._y = [b.getY() for b in Board.prey]\n",
    "        self._z = [b.getZ() for b in Board.prey]\n",
    "        self._vx = [b.getVx() for b in Board.prey]\n",
    "        self._vy = [b.getVy() for b in Board.prey]\n",
    "        self._vz = [b.getVz() for b in Board.prey]\n",
    "        self._colours = [ '#%02x%02x%02x'%(b.getColour()[0]%256,b.getColour()[1]%256,b.getColour()[2]%256) \n",
    "                         for b in Board.prey]\n",
    "        x, y, z = self._x,self._y,self._z\n",
    "        fig = plt.figure(figsize=(10,10),dpi=80)\n",
    "        #ax = fig.gca(projection='3d',axisbg='blue')\n",
    "        ax = fig.add_subplot(111, projection='3d',axisbg='blue')\n",
    "        ax.set_xlim(0, Board.xlim)\n",
    "        ax.set_ylim(0, Board.ylim)\n",
    "        ax.set_zlim(0, Board.zlim)\n",
    "        ax.scatter(x,y,z,color=self._colours,s=10)\n",
    "        ax.quiver(x, y, z, self._vx , self._vy , self._vz , length=20.0, normalize=True, color = self._colours)\n",
    "        #plt.show()\n",
    "        #add obstacles\n",
    "        u = np.linspace(0, 2 * np.pi, 100)\n",
    "        v = np.linspace(0, np.pi, 100)\n",
    "        for ob in Board.obstacles:\n",
    "            x = ob._r * np.outer(np.cos(u), np.sin(v)) + ob.getX()\n",
    "            y = ob._r * np.outer(np.sin(u), np.sin(v)) + ob.getY()\n",
    "            z = ob._r * np.outer(np.ones(np.size(u)), np.cos(v)) + ob.getZ()\n",
    "            ax.plot_surface(x, y, z,  rstride=4, cstride=4, color='green', linewidth=0, alpha=0.5)\n",
    "        \n",
    "        title = \"clip0\"\n",
    "        plt.savefig(title)\n",
    "        \n",
    "        \n",
    "    def refresh(self):\n",
    "        self._x = [b.getX() for b in Board.prey]\n",
    "        self._y = [b.getY() for b in Board.prey]\n",
    "        self._z = [b.getZ() for b in Board.prey]\n",
    "        self._vx = [b.getVx() for b in Board.prey]\n",
    "        self._vy = [b.getVy() for b in Board.prey]\n",
    "        self._vz = [b.getVz() for b in Board.prey]\n",
    "        self._colours = [ '#%02x%02x%02x'%(b.getColour()[0]%256,b.getColour()[1]%256,b.getColour()[2]%256) \n",
    "                         for b in Board.prey]\n",
    "        x, y, z = self._x,self._y,self._z\n",
    "        fig = plt.figure(figsize=(10,10),dpi=80)\n",
    "        #ax = fig.gca(projection='3d',axisbg='blue')\n",
    "        ax = fig.add_subplot(111, projection='3d',axisbg='blue')\n",
    "        ax.set_xlim(0, Board.xlim)\n",
    "        ax.set_ylim(0, Board.ylim)\n",
    "        ax.set_zlim(0, Board.zlim)\n",
    "        ax.scatter(x,y,z,color=self._colours,s=10)\n",
    "        ax.quiver(x, y, z, self._vx , self._vy , self._vz , length=20.0, normalize=True, color = self._colours)\n",
    "        self.stalk()\n",
    "        stalked = self._marked\n",
    "        for line in range(1,len(stalked)):\n",
    "            if abs(stalked[line-1][0]-stalked[line][0])<50 and abs(stalked[line-1][1]-stalked[line][1])<50 and \\\n",
    "            abs(stalked[line-1][2]-stalked[line][2])<50:\n",
    "                ax.plot([stalked[line-1][0],stalked[line][0]],[stalked[line-1][1],stalked[line][1]],\n",
    "                     [stalked[line-1][2],stalked[line][2]], linestyle = ':', color = 'cyan')\n",
    "        #colour neighbours\n",
    "       \n",
    "        neigh = Board.prey[0]._neighbours\n",
    "        xn = []\n",
    "        yn = []\n",
    "        zn = []\n",
    "        for n in neigh:\n",
    "            coord = n.getCoordinates()\n",
    "            xn.append(coord[0])\n",
    "            yn.append(coord[1])\n",
    "            zn.append(coord[2])\n",
    "        ax.scatter(xn,yn,zn,color='white',s=37)\n",
    "        #add obstacles\n",
    "        u = np.linspace(0, 2 * np.pi, 100)\n",
    "        v = np.linspace(0, np.pi, 100)\n",
    "        for ob in Board.obstacles:\n",
    "            x = ob._r * np.outer(np.cos(u), np.sin(v)) + ob.getX()\n",
    "            y = ob._r * np.outer(np.sin(u), np.sin(v)) + ob.getY()\n",
    "            z = ob._r * np.outer(np.ones(np.size(u)), np.cos(v)) + ob.getZ()\n",
    "            ax.plot_surface(x, y, z,  rstride=4, cstride=4, color='green', linewidth=0, alpha=0.5)\n",
    "        \n",
    "        #saving\n",
    "        title = \"clip%d\"%Board.steps\n",
    "        plt.savefig(title)\n",
    "        plt.close()\n",
    "        \n",
    "    def mark_bird(self,id=0):\n",
    "        Board.prey[id].setColour(0,255,0)\n",
    "        self._marked.append([self._x[id],self._y[id],self._z[id],Board.prey[id].get_number_of_neighbours()])\n",
    "        self._marked.append([self._x[id],self._y[id],self._z[id],Board.prey[id].get_number_of_neighbours()])\n",
    "        \n",
    "    def stalk(self,id=0):\n",
    "        self._marked.append([self._x[id],self._y[id],self._z[id],Board.prey[id].get_number_of_neighbours()])\n",
    "\n",
    "            \n",
    "        #print([self._x[id],self._y[id],self._z[id],self._vx[id],self._vy[id],self._vz[id]])\n",
    "        \n",
    "        \n"
   ]
  },
  {
   "cell_type": "code",
   "execution_count": null,
   "metadata": {},
   "outputs": [],
   "source": [
    "\n",
    "        "
   ]
  },
  {
   "cell_type": "code",
   "execution_count": 13,
   "metadata": {},
   "outputs": [],
   "source": [
    "def animation(steps = 1000):\n",
    "    test = ExtendedBoids(board_size = (500,500,500),  number_of_boids = [30,20,8],noise = [0.00001],\n",
    "                         neighbourhood_distance = [62,70,90], min_distance = [5], separation_weight = [0.1,0.1,0.08],\n",
    "                        alignment_weight = [0.13,0.19,0.2], cohension_weight = [0.17], flat_angle = [165,160,180], \n",
    "                         z_angle = [160], maximum_speed = [7.5,7.0,9.0],\n",
    "                         obstacles = [[50,50,50,30], [100,100,200,40], [200,200,300,60]])\n",
    "    a=Cones()\n",
    "    a.mark_bird()\n",
    "    filenames = []\n",
    "    for i in range(steps):\n",
    "        test.board_step()\n",
    "        a.refresh()\n",
    "        name = 'clip%d.png'%i\n",
    "        filenames.append(name)\n",
    "#    with imageio.get_writer('clip.gif', mode='I') as writer:\n",
    "#        for filename in filenames:#\n",
    "#\n",
    "#\n",
    " #           image = imageio.imread(filename)\n",
    " #           writer.append_data(image)\n",
    "\n",
    "  #      writer.close()\n",
    "    length = len(a._marked)\n",
    "    nei = []\n",
    "    for i in a._marked:\n",
    "        nei.append(i[3])\n",
    "    return nei\n",
    "\n"
   ]
  },
  {
   "cell_type": "code",
   "execution_count": null,
   "metadata": {},
   "outputs": [],
   "source": [
    "\n",
    "\n"
   ]
  },
  {
   "cell_type": "code",
   "execution_count": null,
   "metadata": {},
   "outputs": [
    {
     "name": "stderr",
     "output_type": "stream",
     "text": [
      "/usr/local/lib/python3.4/dist-packages/matplotlib/cbook/deprecation.py:106: MatplotlibDeprecationWarning: The axisbg attribute was deprecated in version 2.0. Use facecolor instead.\n",
      "  warnings.warn(message, mplDeprecation, stacklevel=1)\n"
     ]
    }
   ],
   "source": [
    "%autosave 3600\n",
    "nei = animation(600)\n",
    "%autosave 180"
   ]
  },
  {
   "cell_type": "code",
   "execution_count": 82,
   "metadata": {
    "scrolled": true
   },
   "outputs": [
    {
     "data": {
      "image/png": "[encoded data removed]",
      "text/plain": [
       "<matplotlib.figure.Figure at 0x7fcff6bb3470>"
      ]
     },
     "metadata": {},
     "output_type": "display_data"
    }
   ],
   "source": [
    "x = [i for i in range(len(nei))]\n",
    "fig = plt.figure(figsize=(10,10),dpi=50)\n",
    "plt.plot(x,nei)\n",
    "plt.show()"
   ]
  },
  {
   "cell_type": "code",
   "execution_count": 83,
   "metadata": {},
   "outputs": [
    {
     "data": {
      "text/plain": [
       "[0, 0, 0, 0, 0, 0, 0, 0, 0, 0, 0, 0, 0, 0, 0, 0, 0, 0, 0, 0]"
      ]
     },
     "execution_count": 83,
     "metadata": {},
     "output_type": "execute_result"
    }
   ],
   "source": [
    "[ len(Board.prey[i]._neighbours) for i in range(20)]"
   ]
  },
  {
   "cell_type": "code",
   "execution_count": 241,
   "metadata": {},
   "outputs": [],
   "source": [
    "class TestClass:\n",
    "    def __init__(self):\n",
    "        test = ExtendedBoids(board_size = (500,500,500),  number_of_boids = [2,3],noise = [0.00001],\n",
    "                         neighbourhood_distance = [50,70], min_distance = [5], separation_weight = [0.1,0.1],\n",
    "                        alignment_weight = [0.17,0.19], cohension_weight = [0.15], flat_angle = [120], z_angle = [160],\n",
    "                        maximum_speed = [6.5])\n",
    "        test.clear_board()\n",
    "        test.create_board()\n",
    "        test.populate_board()\n",
    "        c=Cones()\n",
    "        c.mark_bird()\n",
    "        test.board_step()\n",
    "        Board.prey[0].setCoordinates(0,0,0)\n",
    "        Board.prey[0].setVelocities(1,0,0)\n",
    "        Board.prey[1].setCoordinates(1,-1,0)\n",
    "        angle = Board.prey[0].angle(Board.prey[1])\n",
    "        dist = Board.prey[0].distance(Board.prey[1])\n",
    "        print((dist>Board.xlim)*2.0)\n",
    "        print(\"debugging\")\n",
    "        print ( angle )\n",
    "        print(\"asserting\")\n",
    "        assert len(Board.prey[0].find_neighbours()) > 0\n",
    "        assert angle < mt.pi/3\n",
    "        assert dist < 10"
   ]
  },
  {
   "cell_type": "code",
   "execution_count": 242,
   "metadata": {
    "collapsed": true
   },
   "outputs": [
    {
     "name": "stdout",
     "output_type": "stream",
     "text": [
      "0.0\n",
      "debugging\n",
      "0.7853981633974484\n",
      "asserting\n"
     ]
    },
    {
     "name": "stderr",
     "output_type": "stream",
     "text": [
      "/usr/local/lib/python3.4/dist-packages/matplotlib/cbook/deprecation.py:106: MatplotlibDeprecationWarning: The axisbg attribute was deprecated in version 2.0. Use facecolor instead.\n",
      "  warnings.warn(message, mplDeprecation, stacklevel=1)\n"
     ]
    },
    {
     "data": {
      "text/plain": [
       "<__main__.TestClass at 0x7f6567911080>"
      ]
     },
     "execution_count": 242,
     "metadata": {},
     "output_type": "execute_result"
    },
    {
     "data": {
      "image/png": "[encoded data removed]",
      "text/plain": [
       "<matplotlib.figure.Figure at 0x7f6567911160>"
      ]
     },
     "metadata": {},
     "output_type": "display_data"
    }
   ],
   "source": [
    "TestClass()"
   ]
  },
  {
   "cell_type": "code",
   "execution_count": 14,
   "metadata": {},
   "outputs": [],
   "source": [
    "def save():\n",
    "    os.system(\"ffmpeg -r 11 -i clip%01d.png -vb 2M -vcodec mpeg4 -y movie.mp4\")"
   ]
  },
  {
   "cell_type": "code",
   "execution_count": 15,
   "metadata": {},
   "outputs": [],
   "source": [
    "save()"
   ]
  },
  {
   "cell_type": "code",
   "execution_count": null,
   "metadata": {},
   "outputs": [],
   "source": []
  },
  {
   "cell_type": "code",
   "execution_count": null,
   "metadata": {},
   "outputs": [],
   "source": []
  },
  {
   "cell_type": "code",
   "execution_count": null,
   "metadata": {},
   "outputs": [],
   "source": []
  },
  {
   "cell_type": "code",
   "execution_count": null,
   "metadata": {},
   "outputs": [],
   "source": []
  },
  {
   "cell_type": "code",
   "execution_count": null,
   "metadata": {},
   "outputs": [],
   "source": []
  },
  {
   "cell_type": "code",
   "execution_count": null,
   "metadata": {},
   "outputs": [],
   "source": []
  },
  {
   "cell_type": "code",
   "execution_count": null,
   "metadata": {},
   "outputs": [],
   "source": []
  },
  {
   "cell_type": "code",
   "execution_count": null,
   "metadata": {},
   "outputs": [],
   "source": []
  },
  {
   "cell_type": "code",
   "execution_count": null,
   "metadata": {},
   "outputs": [],
   "source": [
    "\n",
    "    "
   ]
  },
  {
   "cell_type": "code",
   "execution_count": null,
   "metadata": {},
   "outputs": [],
   "source": []
  },
  {
   "cell_type": "code",
   "execution_count": null,
   "metadata": {},
   "outputs": [],
   "source": []
  },
  {
   "cell_type": "code",
   "execution_count": null,
   "metadata": {},
   "outputs": [],
   "source": []
  },
  {
   "cell_type": "code",
   "execution_count": null,
   "metadata": {},
   "outputs": [],
   "source": []
  },
  {
   "cell_type": "code",
   "execution_count": null,
   "metadata": {},
   "outputs": [],
   "source": []
  },
  {
   "cell_type": "code",
   "execution_count": null,
   "metadata": {},
   "outputs": [],
   "source": []
  },
  {
   "cell_type": "code",
   "execution_count": null,
   "metadata": {},
   "outputs": [],
   "source": []
  },
  {
   "cell_type": "code",
   "execution_count": null,
   "metadata": {},
   "outputs": [],
   "source": []
  },
  {
   "cell_type": "code",
   "execution_count": null,
   "metadata": {},
   "outputs": [],
   "source": []
  },
  {
   "cell_type": "code",
   "execution_count": null,
   "metadata": {},
   "outputs": [],
   "source": []
  },
  {
   "cell_type": "code",
   "execution_count": null,
   "metadata": {},
   "outputs": [],
   "source": []
  },
  {
   "cell_type": "code",
   "execution_count": 23,
   "metadata": {},
   "outputs": [
    {
     "name": "stdout",
     "output_type": "stream",
     "text": [
      "3.4.3 (default, Nov 28 2017, 16:41:13) \n",
      "[GCC 4.8.4]\n",
      "/usr/bin/python3: No module named pip3\r\n"
     ]
    }
   ],
   "source": [
    "import sys\n",
    "print(sys.version)\n",
    "!{sys.executable} -m pip3 install --upgrade python"
   ]
  },
  {
   "cell_type": "code",
   "execution_count": 206,
   "metadata": {},
   "outputs": [
    {
     "ename": "ValueError",
     "evalue": "math domain error",
     "traceback": [
      "\u001b[0;31m---------------------------------------------------------------------------\u001b[0m",
      "\u001b[0;31mValueError\u001b[0m                                Traceback (most recent call last)",
      "\u001b[0;32m<ipython-input-206-cf21bb9ef214>\u001b[0m in \u001b[0;36m<module>\u001b[0;34m()\u001b[0m\n\u001b[0;32m----> 1\u001b[0;31m \u001b[0mmt\u001b[0m\u001b[0;34m.\u001b[0m\u001b[0macos\u001b[0m\u001b[0;34m(\u001b[0m\u001b[0;36m3\u001b[0m\u001b[0;34m)\u001b[0m\u001b[0;34m\u001b[0m\u001b[0m\n\u001b[0m",
      "\u001b[0;31mValueError\u001b[0m: math domain error"
     ],
     "output_type": "error"
    }
   ],
   "source": [
    "mt.acos(3)"
   ]
  },
  {
   "cell_type": "code",
   "execution_count": 20,
   "metadata": {},
   "outputs": [
    {
     "ename": "AttributeError",
     "evalue": "'module' object has no attribute 'nan'",
     "traceback": [
      "\u001b[0;31m---------------------------------------------------------------------------\u001b[0m",
      "\u001b[0;31mAttributeError\u001b[0m                            Traceback (most recent call last)",
      "\u001b[0;32m<ipython-input-20-caaabba212e3>\u001b[0m in \u001b[0;36m<module>\u001b[0;34m()\u001b[0m\n\u001b[0;32m----> 1\u001b[0;31m \u001b[0mx\u001b[0m \u001b[0;34m=\u001b[0m \u001b[0mmt\u001b[0m\u001b[0;34m.\u001b[0m\u001b[0mnan\u001b[0m\u001b[0;34m\u001b[0m\u001b[0m\n\u001b[0m\u001b[1;32m      2\u001b[0m \u001b[0mmt\u001b[0m\u001b[0;34m.\u001b[0m\u001b[0misnan\u001b[0m\u001b[0;34m(\u001b[0m\u001b[0mx\u001b[0m\u001b[0;34m)\u001b[0m\u001b[0;34m\u001b[0m\u001b[0m\n",
      "\u001b[0;31mAttributeError\u001b[0m: 'module' object has no attribute 'nan'"
     ],
     "output_type": "error"
    }
   ],
   "source": [
    "x = mt.nan\n",
    "mt.isnan(x)"
   ]
  },
  {
   "cell_type": "code",
   "execution_count": null,
   "metadata": {},
   "outputs": [],
   "source": []
  },
  {
   "cell_type": "code",
   "execution_count": 611,
   "metadata": {},
   "outputs": [],
   "source": []
  },
  {
   "cell_type": "code",
   "execution_count": 612,
   "metadata": {},
   "outputs": [
    {
     "data": {
      "text/plain": [
       "2.0943951023931953"
      ]
     },
     "execution_count": 612,
     "metadata": {},
     "output_type": "execute_result"
    }
   ],
   "source": []
  },
  {
   "cell_type": "code",
   "execution_count": 69,
   "metadata": {},
   "outputs": [],
   "source": []
  },
  {
   "cell_type": "code",
   "execution_count": 161,
   "metadata": {},
   "outputs": [],
   "source": []
  },
  {
   "cell_type": "code",
   "execution_count": 162,
   "metadata": {},
   "outputs": [],
   "source": []
  },
  {
   "cell_type": "code",
   "execution_count": 163,
   "metadata": {},
   "outputs": [],
   "source": [
    "\n"
   ]
  },
  {
   "cell_type": "code",
   "execution_count": 164,
   "metadata": {},
   "outputs": [
    {
     "data": {
      "text/plain": [
       "[]"
      ]
     },
     "execution_count": 164,
     "metadata": {},
     "output_type": "execute_result"
    }
   ],
   "source": []
  },
  {
   "cell_type": "code",
   "execution_count": 165,
   "metadata": {},
   "outputs": [
    {
     "data": {
      "text/plain": [
       "3.001215669352204"
      ]
     },
     "execution_count": 165,
     "metadata": {},
     "output_type": "execute_result"
    }
   ],
   "source": []
  },
  {
   "cell_type": "code",
   "execution_count": 166,
   "metadata": {},
   "outputs": [
    {
     "data": {
      "text/plain": [
       "1.118033988749895"
      ]
     },
     "execution_count": 166,
     "metadata": {},
     "output_type": "execute_result"
    }
   ],
   "source": []
  },
  {
   "cell_type": "code",
   "execution_count": 100,
   "metadata": {},
   "outputs": [
    {
     "data": {
      "text/plain": [
       "0.6187880142080228"
      ]
     },
     "execution_count": 100,
     "metadata": {},
     "output_type": "execute_result"
    }
   ],
   "source": [
    "Board.prey[3].z_angle()"
   ]
  },
  {
   "cell_type": "code",
   "execution_count": 214,
   "metadata": {},
   "outputs": [
    {
     "data": {
      "text/plain": [
       "0"
      ]
     },
     "execution_count": 214,
     "metadata": {},
     "output_type": "execute_result"
    }
   ],
   "source": [
    "(2<1)*1"
   ]
  },
  {
   "cell_type": "code",
   "execution_count": 20,
   "metadata": {},
   "outputs": [
    {
     "data": {
      "image/png": "[encoded data removed]",
      "text/plain": [
       "<matplotlib.figure.Figure at 0x7fe0af65a390>"
      ]
     },
     "metadata": {},
     "output_type": "display_data"
    }
   ],
   "source": [
    "import numpy as np\n",
    "import matplotlib.pyplot as plt\n",
    "from mpl_toolkits.mplot3d import Axes3D\n",
    "fig = plt.figure()\n",
    "ax = fig.add_subplot(111, projection='3d')\n",
    "ax.set_aspect('equal')\n",
    "\n",
    "u = np.linspace(0, 2 * np.pi, 100)\n",
    "v = np.linspace(0, np.pi, 100)\n",
    "\n",
    "x = 1 * np.outer(np.cos(u), np.sin(v))\n",
    "y = 1 * np.outer(np.sin(u), np.sin(v))\n",
    "z = 1 * np.outer(np.ones(np.size(u)), np.cos(v))\n",
    "#for i in range(2):\n",
    "#    ax.plot_surface(x+random.randint(-5,5), y+random.randint(-5,5), z+random.randint(-5,5),  rstride=4, cstride=4, color='b', linewidth=0, alpha=0.5)\n",
    "elev = 10.0\n",
    "rot = 80.0 / 180 * np.pi\n",
    "ax.plot_surface(x, y, z,  rstride=4, cstride=4, color='b', linewidth=0, alpha=0.5)\n",
    "#calculate vectors for \"vertical\" circle\n",
    "\n",
    "\n",
    "#ax.view_init(elev = elev, azim = 0)\n",
    "\n",
    "\n",
    "plt.show()"
   ]
  },
  {
   "cell_type": "code",
   "execution_count": null,
   "metadata": {},
   "outputs": [],
   "source": []
  }
 ],
 "metadata": {
  "kernelspec": {
   "display_name": "Python 3",
   "language": "python",
   "name": "python3"
  },
  "language_info": {
   "codemirror_mode": {
    "name": "ipython",
    "version": 3
   },
   "file_extension": ".py",
   "mimetype": "text/x-python",
   "name": "python",
   "nbconvert_exporter": "python",
   "pygments_lexer": "ipython3",
   "version": "3.4.3"
  }
 },
 "nbformat": 4,
 "nbformat_minor": 2
}
